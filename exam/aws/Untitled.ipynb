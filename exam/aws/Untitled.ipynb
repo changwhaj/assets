{
 "cells": [
  {
   "cell_type": "code",
   "execution_count": 1,
   "id": "a453aa13",
   "metadata": {
    "ExecuteTime": {
     "end_time": "2022-10-02T04:06:25.103021Z",
     "start_time": "2022-10-02T04:06:24.387935Z"
    }
   },
   "outputs": [],
   "source": [
    "import time\n",
    "\n",
    "from selenium import webdriver\n",
    "from selenium.webdriver.remote.webelement import WebElement\n",
    "from selenium.webdriver.common.keys import Keys\n",
    "from selenium.webdriver import ActionChains\n",
    "from selenium.webdriver.common.action_chains import ActionChains\n",
    "\n",
    "from bs4 import BeautifulSoup\n",
    "\n",
    "from random import *\n",
    "from pathlib import Path"
   ]
  },
  {
   "cell_type": "code",
   "execution_count": 15,
   "id": "2e1e2337",
   "metadata": {
    "ExecuteTime": {
     "end_time": "2022-10-02T04:06:42.713551Z",
     "start_time": "2022-10-02T04:06:42.576917Z"
    }
   },
   "outputs": [],
   "source": [
    "fname = 'SAP_C02/kr/SAP-Q0229-KR.html'\n",
    "\n",
    "with open(fname, \"r\", encoding='utf-8') as file:\n",
    "    html = file.read()\n",
    "    file.close()\n",
    "        \n",
    "#print(html)\n",
    "bs = BeautifulSoup(html, 'html.parser')\n",
    "\n",
    "# bs"
   ]
  },
  {
   "cell_type": "code",
   "execution_count": 9,
   "id": "5cde4460",
   "metadata": {
    "ExecuteTime": {
     "end_time": "2022-10-02T04:45:54.371479Z",
     "start_time": "2022-10-02T04:45:54.359510Z"
    }
   },
   "outputs": [
    {
     "name": "stdout",
     "output_type": "stream",
     "text": [
      "52\n"
     ]
    },
    {
     "data": {
      "text/plain": [
       "2"
      ]
     },
     "execution_count": 9,
     "metadata": {},
     "output_type": "execute_result"
    }
   ],
   "source": [
    "import math\n",
    "QUESTIONS_PER_PAGE = 5\n",
    "QUESTIONS_TOTAL = 258\n",
    "PAGE_COUNTS = QUESTIONS_TOTAL / QUESTIONS_PER_PAGE\n",
    "print(round(QUESTIONS_TOTAL / QUESTIONS_PER_PAGE + 0.5))\n",
    "math.ceil(1.5)"
   ]
  },
  {
   "cell_type": "code",
   "execution_count": null,
   "id": "4a758371",
   "metadata": {
    "ExecuteTime": {
     "end_time": "2022-09-24T08:33:49.357011Z",
     "start_time": "2022-09-24T08:33:49.333077Z"
    }
   },
   "outputs": [
    {
     "ename": "SyntaxError",
     "evalue": "unexpected character after line continuation character (Temp/ipykernel_20368/3573070062.py, line 10)",
     "output_type": "error",
     "traceback": [
      "\u001b[1;36m  File \u001b[1;32m\"C:\\Users\\Changwha\\AppData\\Local\\Temp/ipykernel_20368/3573070062.py\"\u001b[1;36m, line \u001b[1;32m10\u001b[0m\n\u001b[1;33m    discuss_url = \\ # 'http://webcache.googleusercontent.com/search?q=cache:' + \\\u001b[0m\n\u001b[1;37m                                                                                ^\u001b[0m\n\u001b[1;31mSyntaxError\u001b[0m\u001b[1;31m:\u001b[0m unexpected character after line continuation character\n"
     ]
    }
   ],
   "source": [
    "def open_exam(driver, pageno):\n",
    "    exam_url = 'http://webcache.googleusercontent.com/search?q=cache:' + \\\n",
    "                'https://www.examtopics.com/exams/amazon/aws-certified-database-specialty/view/' + str(pageno) + '/'\n",
    "    # discuss_url = 'https://www.examtopics.com/ajax/discussion/load-complete/?discussion-id=35981'\n",
    "    page = driver.get(exam_url)\n",
    "    time.sleep(randint(1, 10))\n",
    "    return\n",
    "\n",
    "def open_amazondiscuss(driver, pageno):\n",
    "    discuss_url = \\ # 'http://webcache.googleusercontent.com/search?q=cache:' + \\\n",
    "                'https://www.examtopics.com/discussions/amazon/' + str(pageno) + '/'\n",
    "    # discuss_url = 'https://www.examtopics.com/ajax/discussion/load-complete/?discussion-id=35981'\n",
    "    page = driver.get(discuss_url)\n",
    "    time.sleep(randint(1, 10))\n",
    "    return\n",
    "\n",
    "\n",
    "def remove_element(driver, pageno):\n",
    "    driver.execute_script(\"return document.getElementsByClassName('btn btn-success')[0].setAttribute('href','exam/aws/DBS/page/DBS-P\" + str(pageno - 1) + \".html');\")\n",
    "    driver.execute_script(\"return document.getElementsByClassName('btn btn-success pull-right')[0].setAttribute('href','exam/aws/DBS/page/DBS-P\" + str(pageno + 1) + \".html');\")\n",
    "    for i in range(4):\n",
    "        try:\n",
    "            driver.execute_script(\"return document.getElementsByClassName('btn btn-secondary question-discussion-button d-print-none')[\" + str(i) + \"].setAttribute('href','exam/aws/DBS/DBS-Q\" + ('%03d' % ((pageno-1)*4 + i + 1)) + \".html');\")\n",
    "        except:\n",
    "            continue\n",
    "\n",
    "    driver.execute_script(\"\"\"\n",
    "        function getElementByXpath(path) {\n",
    "            return document.evaluate(path, document, null, XPathResult.FIRST_ORDERED_NODE_TYPE, null).singleNodeValue;\n",
    "        }\n",
    "        function removeElement(element) {\n",
    "            if (element !== undefined) {\n",
    "                element.remove();\n",
    "            }\n",
    "        }\n",
    "        function removeElemAttr(element, attr) {\n",
    "            if (element !== undefined && element !== null) {\n",
    "                element.removeAttribute(attr);\n",
    "            }\n",
    "        }\n",
    "        removeElement(document.getElementById('bN015htcoyT__google-cache-hdr'));\n",
    "        removeElement(getElementByXpath(\"/html/head/style\"));\n",
    "        removeElement(document.getElementsByClassName('full-width-header')[0]);\n",
    "        removeElement(document.getElementsByClassName('exam-view-header')[0]);\n",
    "        removeElement(document.getElementsByClassName('row')[0]);\n",
    "        removeElement(document.getElementById('rs-footer'));\n",
    "        getElementByXpath(\"/html/head/base\").setAttribute('href','https://changwhaj.github.io/assets/');\n",
    "        getElementByXpath(\"/html\").removeAttribute(\"class\");\n",
    "        // document.getElementsByClassName('btn btn-success')[0].setAttribute('href','/exam/AWS/DBS/DBS-P1.html');\n",
    "        // document.getElementsByClassName('btn btn-success pull-right')[0].setAttribute('href','/exam/AWS/DBS/DBS-P3.html');\n",
    "\n",
    "        // removeElement(document.getElementsByClassName('page-navigation-bar')[0]);\n",
    "        removeElement(document.getElementById('engagement-modal'));\n",
    "        removeElement(document.getElementsByClassName('modal-backdrop show')[1]);\n",
    "        removeElement(document.getElementsByClassName('modal-backdrop show')[0]);\n",
    "        getElementByXpath(\"/html/body/base\").removeAttribute(\"href\");\n",
    "        return;\n",
    "    \"\"\")\n",
    "\n",
    "def save_html(driver, fname):\n",
    "    html = driver.page_source\n",
    "    bs = BeautifulSoup(html, 'html.parser')\n",
    "    print(fname)\n",
    "    with open(fname, \"w\", encoding='utf-8') as file:\n",
    "        file.write('<!DOCTYPE html>\\n' + str(bs))\n"
   ]
  },
  {
   "cell_type": "code",
   "execution_count": null,
   "id": "211f696a",
   "metadata": {},
   "outputs": [],
   "source": [
    "if __name__ == \"__main__\":\n",
    "    driver = webdriver.Chrome('c:/temp/chromedriver.exe')\n",
    "\n",
    "    for i in range(47)[40:45]:\n",
    "        pageno = i + 1\n",
    "        fname = 'DBS/page/DBS-P' + str(pageno) + '.html'\n",
    "        print(fname)\n",
    "\n",
    "        my_file = Path(fname)\n",
    "        if my_file.is_file():\n",
    "            # file exists\n",
    "            continue\n",
    "\n",
    "        try:\n",
    "            open_exam(driver, pageno)\n",
    "            driver.switch_to.window(driver.window_handles[0])\n",
    "            print(driver.title)\n",
    "            if (driver.title == 'Error 404 (Not Found)!!1'):\n",
    "                with open(fname, \"w\", encoding='utf-8') as file:\n",
    "                    file.write('Error 404 (Not Found)')\n",
    "                continue\n",
    "\n",
    "            remove_element(driver, pageno)\n",
    "\n",
    "        except:\n",
    "            time.sleep(randint(1, 20))\n",
    "            pass\n",
    "\n",
    "        finally:\n",
    "            save_html(driver, fname)\n",
    "        \n",
    "    driver.quit()"
   ]
  },
  {
   "cell_type": "code",
   "execution_count": null,
   "id": "2fe375ce",
   "metadata": {
    "ExecuteTime": {
     "end_time": "2022-09-24T06:29:13.150773Z",
     "start_time": "2022-09-24T06:29:10.690024Z"
    }
   },
   "outputs": [],
   "source": [
    "    driver = webdriver.Chrome('c:/temp/chromedriver.exe')"
   ]
  },
  {
   "cell_type": "code",
   "execution_count": null,
   "id": "96255f99",
   "metadata": {
    "ExecuteTime": {
     "end_time": "2022-09-24T05:20:19.727271Z",
     "start_time": "2022-09-24T05:20:19.708295Z"
    }
   },
   "outputs": [
    {
     "name": "stdout",
     "output_type": "stream",
     "text": [
      "DBS/page/DBS-P1.html\n"
     ]
    }
   ],
   "source": [
    "pageno = 1\n",
    "fname = 'DBS/page/DBS-P' + str(pageno) + '.html'\n",
    "my_file = Path(fname)\n",
    "print(fname)\n",
    "if my_file.is_file():\n",
    "    # file exists\n",
    "    print(fname)"
   ]
  },
  {
   "cell_type": "code",
   "execution_count": null,
   "id": "abca09d5",
   "metadata": {
    "ExecuteTime": {
     "end_time": "2022-09-24T06:29:39.118426Z",
     "start_time": "2022-09-24T06:29:32.225561Z"
    }
   },
   "outputs": [],
   "source": [
    "open_exam(driver, 6)"
   ]
  },
  {
   "cell_type": "code",
   "execution_count": null,
   "id": "3961f4c4",
   "metadata": {
    "ExecuteTime": {
     "end_time": "2022-09-24T06:12:15.676084Z",
     "start_time": "2022-09-24T06:12:15.306341Z"
    }
   },
   "outputs": [
    {
     "name": "stdout",
     "output_type": "stream",
     "text": [
      "AWS Certified Database - Specialty Exam – Free Exam Q&As, Page 5 | ExamTopics\n"
     ]
    }
   ],
   "source": [
    "driver.switch_to.window(driver.window_handles[0])\n",
    "print(driver.title)"
   ]
  },
  {
   "cell_type": "code",
   "execution_count": null,
   "id": "06c9cd7d",
   "metadata": {},
   "outputs": [],
   "source": [
    "body > div.sec-spacer > div > div:nth-child(3) > div > div\n",
    "    /html/body/div[2]/div/div[3]/div/div\n",
    "container-fluid discussion-list"
   ]
  },
  {
   "cell_type": "code",
   "execution_count": null,
   "id": "3cafd443",
   "metadata": {
    "ExecuteTime": {
     "end_time": "2022-09-24T08:24:52.613135Z",
     "start_time": "2022-09-24T08:24:52.346818Z"
    }
   },
   "outputs": [
    {
     "name": "stdout",
     "output_type": "stream",
     "text": [
      "Amazon discussions - ExamTopics Forum\n",
      "/discussions/amazon/view/48843-exam-aws-certified-database-specialty-topic-1-question-140/\n",
      "/discussions/amazon/view/46764-exam-aws-certified-solutions-architect-associate-saa-c02/\n",
      "/discussions/amazon/view/68751-exam-aws-certified-developer-associate-topic-1-question-372/\n",
      "/discussions/amazon/view/65738-exam-aws-certified-database-specialty-topic-1-question-157/\n",
      "/discussions/amazon/view/51710-exam-aws-certified-data-analytics-specialty-topic-1-question/\n",
      "/discussions/amazon/view/49205-exam-aws-certified-database-specialty-topic-1-question-104/\n",
      "/discussions/amazon/view/35803-exam-aws-certified-solutions-architect-associate-saa-c02/\n",
      "/discussions/amazon/view/27770-exam-aws-certified-solutions-architect-associate-saa-c02/\n",
      "/discussions/amazon/view/49007-exam-aws-certified-database-specialty-topic-1-question-126/\n",
      "/discussions/amazon/view/65925-exam-aws-certified-database-specialty-topic-1-question-162/\n",
      "/discussions/amazon/view/74242-exam-aws-certified-data-analytics-specialty-topic-1-question/\n",
      "/discussions/amazon/view/61062-exam-aws-certified-solutions-architect-associate-saa-c02/\n",
      "/discussions/amazon/view/73977-exam-aws-certified-machine-learning-specialty-topic-1/\n",
      "/discussions/amazon/view/2374-exam-aws-devops-engineer-professional-topic-1-question-44/\n",
      "/discussions/amazon/view/4255-exam-aws-certified-developer-associate-topic-1-question-136/\n",
      "/discussions/amazon/view/4776-exam-aws-certified-developer-associate-topic-1-question-201/\n",
      "/discussions/amazon/view/68931-exam-aws-certified-solutions-architect-associate-saa-c02/\n",
      "/discussions/amazon/view/46839-exam-aws-certified-solutions-architect-associate-saa-c02/\n",
      "/discussions/amazon/view/27700-exam-aws-certified-solutions-architect-associate-saa-c02/\n",
      "/discussions/amazon/view/6150-exam-aws-certified-developer-associate-topic-1-question-154/\n"
     ]
    }
   ],
   "source": [
    "driver.switch_to.window(driver.window_handles[0])\n",
    "print(driver.title)\n",
    "bs = BeautifulSoup(driver.page_source, 'html.parser')\n",
    "div_card = bs.find_all(\"div\", {\"class\": \"container-fluid discussion-list\"})\n",
    "a = bs.find_all(\"a\", {\"class\": \"discussion-link\"})\n",
    "for i in range(len(a)):\n",
    "    print(a[i][\"href\"])"
   ]
  },
  {
   "cell_type": "code",
   "execution_count": null,
   "id": "bebbd1c1",
   "metadata": {
    "ExecuteTime": {
     "end_time": "2022-09-24T08:57:31.922192Z",
     "start_time": "2022-09-24T08:57:29.760367Z"
    }
   },
   "outputs": [
    {
     "name": "stdout",
     "output_type": "stream",
     "text": [
      "AmazonDiscussList.html\n"
     ]
    }
   ],
   "source": [
    "    driver = webdriver.Chrome('c:/temp/chromedriver.exe')\n",
    "    \n",
    "    fname = 'AmazonDiscussList.html'\n",
    "    print(fname)\n",
    "\n",
    "    my_file = Path(fname)\n"
   ]
  },
  {
   "cell_type": "code",
   "execution_count": null,
   "id": "2cd86ff7",
   "metadata": {
    "ExecuteTime": {
     "end_time": "2022-09-24T08:57:53.274669Z",
     "start_time": "2022-09-24T08:57:53.265693Z"
    }
   },
   "outputs": [],
   "source": [
    "def open_amazondiscuss(driver, pageno):\n",
    "    discuss_url = 'https://www.examtopics.com/discussions/amazon/' + str(pageno) + '/'\n",
    "    # discuss_url = 'https://www.examtopics.com/ajax/discussion/load-complete/?discussion-id=35981'\n",
    "    page = driver.get(discuss_url)\n",
    "    time.sleep(randint(1, 10))\n",
    "    return\n"
   ]
  },
  {
   "cell_type": "code",
   "execution_count": null,
   "id": "10922b48",
   "metadata": {
    "ExecuteTime": {
     "end_time": "2022-09-24T16:13:40.774772Z",
     "start_time": "2022-09-24T16:13:40.569321Z"
    }
   },
   "outputs": [
    {
     "name": "stdout",
     "output_type": "stream",
     "text": [
      "AWS Certified Cloud Practitioner Exam – Free Exam Q&As, Page 37 | ExamTopics-375\n",
      "/discussions/amazon/view/20816-exam-aws-certified-cloud-practitioner-topic-1-question-166/\n",
      "/discussions/amazon/view/6955-exam-aws-certified-cloud-practitioner-topic-1-question-42/\n",
      "/discussions/amazon/view/44218-exam-aws-certified-cloud-practitioner-topic-1-question-526/\n",
      "#\n",
      "#\n",
      "/discussions/amazon/view/17028-exam-aws-certified-cloud-practitioner-topic-1-question-116/\n",
      "/discussions/amazon/view/44217-exam-aws-certified-cloud-practitioner-topic-1-question-527/\n",
      "/discussions/amazon/view/26020-exam-aws-certified-cloud-practitioner-topic-1-question-240/\n",
      "/discussions/amazon/view/35036-exam-aws-certified-cloud-practitioner-topic-1-question-486/\n",
      "/discussions/amazon/view/33445-exam-aws-certified-cloud-practitioner-topic-1-question-464/\n"
     ]
    }
   ],
   "source": [
    "#pageno = 2\n",
    "#open_amazondiscuss(driver, pageno)\n",
    "driver.switch_to.window(driver.window_handles[0])\n",
    "print(driver.title + \"-\" + str(pageno))\n",
    "bs = BeautifulSoup(driver.page_source, 'html.parser')\n",
    "a = bs.find_all(\"a\", {\"class\": \"btn btn-secondary question-discussion-button d-print-none\"})\n",
    "for i in range(len(a)):\n",
    "    print(a[i][\"href\"])"
   ]
  },
  {
   "cell_type": "code",
   "execution_count": null,
   "id": "227e9359",
   "metadata": {
    "ExecuteTime": {
     "end_time": "2022-09-24T11:41:49.743163Z",
     "start_time": "2022-09-24T11:41:49.729202Z"
    }
   },
   "outputs": [
    {
     "data": {
      "text/plain": [
       "'Exam AWS Certified Solutions Architect - Associate SAA-C02 topic 1 question 791 discussion'"
      ]
     },
     "execution_count": 141,
     "metadata": {},
     "output_type": "execute_result"
    }
   ],
   "source": [
    "a = bs.find_all(\"a\", {\"class\": \"discussion-link\"})\n",
    "a[0].text.strip()"
   ]
  },
  {
   "cell_type": "code",
   "execution_count": null,
   "id": "8373978a",
   "metadata": {
    "ExecuteTime": {
     "end_time": "2022-09-24T12:41:42.153220Z",
     "start_time": "2022-09-24T11:51:27.079889Z"
    }
   },
   "outputs": [
    {
     "name": "stdout",
     "output_type": "stream",
     "text": [
      "Amazon discussions - ExamTopics Forum-1\n",
      "Amazon discussions - ExamTopics Forum-2\n",
      "Amazon discussions - ExamTopics Forum-3\n",
      "Amazon discussions - ExamTopics Forum-4\n",
      "Amazon discussions - ExamTopics Forum-5\n",
      "Amazon discussions - ExamTopics Forum-6\n",
      "Amazon discussions - ExamTopics Forum-7\n",
      "Amazon discussions - ExamTopics Forum-8\n",
      "Amazon discussions - ExamTopics Forum-9\n",
      "Amazon discussions - ExamTopics Forum-10\n",
      "Amazon discussions - ExamTopics Forum-11\n",
      "Amazon discussions - ExamTopics Forum-12\n",
      "Amazon discussions - ExamTopics Forum-13\n",
      "Amazon discussions - ExamTopics Forum-14\n",
      "Amazon discussions - ExamTopics Forum-15\n",
      "Amazon discussions - ExamTopics Forum-16\n",
      "Amazon discussions - ExamTopics Forum-17\n",
      "Amazon discussions - ExamTopics Forum-18\n",
      "Amazon discussions - ExamTopics Forum-19\n",
      "Amazon discussions - ExamTopics Forum-20\n",
      "Amazon discussions - ExamTopics Forum-21\n",
      "Amazon discussions - ExamTopics Forum-22\n",
      "Amazon discussions - ExamTopics Forum-23\n",
      "Amazon discussions - ExamTopics Forum-24\n",
      "Amazon discussions - ExamTopics Forum-25\n",
      "Amazon discussions - ExamTopics Forum-26\n",
      "Amazon discussions - ExamTopics Forum-27\n",
      "Amazon discussions - ExamTopics Forum-28\n",
      "Amazon discussions - ExamTopics Forum-29\n",
      "Amazon discussions - ExamTopics Forum-30\n",
      "Amazon discussions - ExamTopics Forum-31\n",
      "Amazon discussions - ExamTopics Forum-32\n",
      "Amazon discussions - ExamTopics Forum-33\n",
      "Amazon discussions - ExamTopics Forum-34\n",
      "Amazon discussions - ExamTopics Forum-35\n",
      "Amazon discussions - ExamTopics Forum-36\n",
      "Amazon discussions - ExamTopics Forum-37\n",
      "Amazon discussions - ExamTopics Forum-38\n",
      "Amazon discussions - ExamTopics Forum-39\n",
      "Amazon discussions - ExamTopics Forum-40\n",
      "Amazon discussions - ExamTopics Forum-41\n",
      "Amazon discussions - ExamTopics Forum-42\n",
      "Amazon discussions - ExamTopics Forum-43\n",
      "Amazon discussions - ExamTopics Forum-44\n",
      "Amazon discussions - ExamTopics Forum-45\n",
      "Amazon discussions - ExamTopics Forum-46\n",
      "Amazon discussions - ExamTopics Forum-47\n",
      "Amazon discussions - ExamTopics Forum-48\n",
      "Amazon discussions - ExamTopics Forum-49\n",
      "Amazon discussions - ExamTopics Forum-50\n",
      "Amazon discussions - ExamTopics Forum-51\n",
      "Amazon discussions - ExamTopics Forum-52\n",
      "Amazon discussions - ExamTopics Forum-53\n",
      "Amazon discussions - ExamTopics Forum-54\n",
      "Amazon discussions - ExamTopics Forum-55\n",
      "Amazon discussions - ExamTopics Forum-56\n",
      "Amazon discussions - ExamTopics Forum-57\n",
      "Amazon discussions - ExamTopics Forum-58\n",
      "Amazon discussions - ExamTopics Forum-59\n",
      "Amazon discussions - ExamTopics Forum-60\n",
      "Amazon discussions - ExamTopics Forum-61\n",
      "Amazon discussions - ExamTopics Forum-62\n",
      "Amazon discussions - ExamTopics Forum-63\n",
      "Amazon discussions - ExamTopics Forum-64\n",
      "Amazon discussions - ExamTopics Forum-65\n",
      "Amazon discussions - ExamTopics Forum-66\n",
      "Amazon discussions - ExamTopics Forum-67\n",
      "Amazon discussions - ExamTopics Forum-68\n",
      "Amazon discussions - ExamTopics Forum-69\n",
      "Amazon discussions - ExamTopics Forum-70\n",
      "Amazon discussions - ExamTopics Forum-71\n",
      "Amazon discussions - ExamTopics Forum-72\n",
      "Amazon discussions - ExamTopics Forum-73\n",
      "Amazon discussions - ExamTopics Forum-74\n",
      "Amazon discussions - ExamTopics Forum-75\n",
      "Amazon discussions - ExamTopics Forum-76\n",
      "Amazon discussions - ExamTopics Forum-77\n",
      "Amazon discussions - ExamTopics Forum-78\n",
      "Amazon discussions - ExamTopics Forum-79\n",
      "Amazon discussions - ExamTopics Forum-80\n",
      "Amazon discussions - ExamTopics Forum-81\n",
      "Amazon discussions - ExamTopics Forum-82\n",
      "Amazon discussions - ExamTopics Forum-83\n",
      "Amazon discussions - ExamTopics Forum-84\n",
      "Amazon discussions - ExamTopics Forum-85\n",
      "Amazon discussions - ExamTopics Forum-86\n",
      "Amazon discussions - ExamTopics Forum-87\n",
      "Amazon discussions - ExamTopics Forum-88\n",
      "Amazon discussions - ExamTopics Forum-89\n",
      "Amazon discussions - ExamTopics Forum-90\n",
      "Amazon discussions - ExamTopics Forum-91\n",
      "Amazon discussions - ExamTopics Forum-92\n",
      "Amazon discussions - ExamTopics Forum-93\n",
      "Amazon discussions - ExamTopics Forum-94\n",
      "Amazon discussions - ExamTopics Forum-95\n",
      "Amazon discussions - ExamTopics Forum-96\n",
      "Amazon discussions - ExamTopics Forum-97\n",
      "Amazon discussions - ExamTopics Forum-98\n",
      "Amazon discussions - ExamTopics Forum-99\n",
      "Amazon discussions - ExamTopics Forum-100\n",
      "Amazon discussions - ExamTopics Forum-101\n",
      "Amazon discussions - ExamTopics Forum-102\n",
      "Amazon discussions - ExamTopics Forum-103\n",
      "Amazon discussions - ExamTopics Forum-104\n",
      "Amazon discussions - ExamTopics Forum-105\n",
      "Amazon discussions - ExamTopics Forum-106\n",
      "Amazon discussions - ExamTopics Forum-107\n",
      "Amazon discussions - ExamTopics Forum-108\n",
      "Amazon discussions - ExamTopics Forum-109\n",
      "Amazon discussions - ExamTopics Forum-110\n",
      "Amazon discussions - ExamTopics Forum-111\n",
      "Amazon discussions - ExamTopics Forum-112\n",
      "Amazon discussions - ExamTopics Forum-113\n",
      "Amazon discussions - ExamTopics Forum-114\n",
      "Amazon discussions - ExamTopics Forum-115\n",
      "Amazon discussions - ExamTopics Forum-116\n",
      "Amazon discussions - ExamTopics Forum-117\n",
      "Amazon discussions - ExamTopics Forum-118\n",
      "Amazon discussions - ExamTopics Forum-119\n",
      "Amazon discussions - ExamTopics Forum-120\n",
      "Amazon discussions - ExamTopics Forum-121\n",
      "Amazon discussions - ExamTopics Forum-122\n",
      "Amazon discussions - ExamTopics Forum-123\n",
      "Amazon discussions - ExamTopics Forum-124\n",
      "Amazon discussions - ExamTopics Forum-125\n",
      "Amazon discussions - ExamTopics Forum-126\n",
      "Amazon discussions - ExamTopics Forum-127\n",
      "Amazon discussions - ExamTopics Forum-128\n",
      "Amazon discussions - ExamTopics Forum-129\n",
      "Amazon discussions - ExamTopics Forum-130\n",
      "Amazon discussions - ExamTopics Forum-131\n",
      "Amazon discussions - ExamTopics Forum-132\n",
      "Amazon discussions - ExamTopics Forum-133\n",
      "Amazon discussions - ExamTopics Forum-134\n",
      "Amazon discussions - ExamTopics Forum-135\n",
      "Amazon discussions - ExamTopics Forum-136\n",
      "Amazon discussions - ExamTopics Forum-137\n",
      "Amazon discussions - ExamTopics Forum-138\n",
      "Amazon discussions - ExamTopics Forum-139\n",
      "Amazon discussions - ExamTopics Forum-140\n",
      "Amazon discussions - ExamTopics Forum-141\n",
      "Amazon discussions - ExamTopics Forum-142\n",
      "Amazon discussions - ExamTopics Forum-143\n",
      "Amazon discussions - ExamTopics Forum-144\n",
      "Amazon discussions - ExamTopics Forum-145\n",
      "Amazon discussions - ExamTopics Forum-146\n",
      "Amazon discussions - ExamTopics Forum-147\n",
      "Amazon discussions - ExamTopics Forum-148\n",
      "Amazon discussions - ExamTopics Forum-149\n",
      "Amazon discussions - ExamTopics Forum-150\n",
      "Amazon discussions - ExamTopics Forum-151\n",
      "Amazon discussions - ExamTopics Forum-152\n",
      "Amazon discussions - ExamTopics Forum-153\n",
      "Amazon discussions - ExamTopics Forum-154\n",
      "Amazon discussions - ExamTopics Forum-155\n",
      "Amazon discussions - ExamTopics Forum-156\n",
      "Amazon discussions - ExamTopics Forum-157\n",
      "Amazon discussions - ExamTopics Forum-158\n",
      "Amazon discussions - ExamTopics Forum-159\n",
      "Amazon discussions - ExamTopics Forum-160\n",
      "Amazon discussions - ExamTopics Forum-161\n",
      "Amazon discussions - ExamTopics Forum-162\n",
      "Amazon discussions - ExamTopics Forum-163\n",
      "Amazon discussions - ExamTopics Forum-164\n",
      "Amazon discussions - ExamTopics Forum-165\n",
      "Amazon discussions - ExamTopics Forum-166\n",
      "Amazon discussions - ExamTopics Forum-167\n",
      "Amazon discussions - ExamTopics Forum-168\n",
      "Amazon discussions - ExamTopics Forum-169\n",
      "Amazon discussions - ExamTopics Forum-170\n",
      "Amazon discussions - ExamTopics Forum-171\n",
      "Amazon discussions - ExamTopics Forum-172\n",
      "Amazon discussions - ExamTopics Forum-173\n",
      "Amazon discussions - ExamTopics Forum-174\n",
      "Amazon discussions - ExamTopics Forum-175\n",
      "Amazon discussions - ExamTopics Forum-176\n",
      "Amazon discussions - ExamTopics Forum-177\n",
      "Amazon discussions - ExamTopics Forum-178\n",
      "Amazon discussions - ExamTopics Forum-179\n",
      "Amazon discussions - ExamTopics Forum-180\n",
      "Amazon discussions - ExamTopics Forum-181\n",
      "Amazon discussions - ExamTopics Forum-182\n",
      "Amazon discussions - ExamTopics Forum-183\n",
      "Amazon discussions - ExamTopics Forum-184\n",
      "Amazon discussions - ExamTopics Forum-185\n",
      "Amazon discussions - ExamTopics Forum-186\n",
      "Amazon discussions - ExamTopics Forum-187\n",
      "Amazon discussions - ExamTopics Forum-188\n",
      "Amazon discussions - ExamTopics Forum-189\n",
      "Amazon discussions - ExamTopics Forum-190\n",
      "Amazon discussions - ExamTopics Forum-191\n",
      "Amazon discussions - ExamTopics Forum-192\n",
      "Amazon discussions - ExamTopics Forum-193\n",
      "Amazon discussions - ExamTopics Forum-194\n",
      "Amazon discussions - ExamTopics Forum-195\n",
      "Amazon discussions - ExamTopics Forum-196\n",
      "Amazon discussions - ExamTopics Forum-197\n",
      "Amazon discussions - ExamTopics Forum-198\n"
     ]
    },
    {
     "name": "stdout",
     "output_type": "stream",
     "text": [
      "Amazon discussions - ExamTopics Forum-199\n",
      "Amazon discussions - ExamTopics Forum-200\n",
      "Amazon discussions - ExamTopics Forum-201\n",
      "Amazon discussions - ExamTopics Forum-202\n",
      "Amazon discussions - ExamTopics Forum-203\n",
      "Amazon discussions - ExamTopics Forum-204\n",
      "Amazon discussions - ExamTopics Forum-205\n",
      "Amazon discussions - ExamTopics Forum-206\n",
      "Amazon discussions - ExamTopics Forum-207\n",
      "Amazon discussions - ExamTopics Forum-208\n",
      "Amazon discussions - ExamTopics Forum-209\n",
      "Amazon discussions - ExamTopics Forum-210\n",
      "Amazon discussions - ExamTopics Forum-211\n",
      "Amazon discussions - ExamTopics Forum-212\n",
      "Amazon discussions - ExamTopics Forum-213\n",
      "Amazon discussions - ExamTopics Forum-214\n",
      "Amazon discussions - ExamTopics Forum-215\n",
      "Amazon discussions - ExamTopics Forum-216\n",
      "Amazon discussions - ExamTopics Forum-217\n",
      "Amazon discussions - ExamTopics Forum-218\n",
      "Amazon discussions - ExamTopics Forum-219\n",
      "Amazon discussions - ExamTopics Forum-220\n",
      "Amazon discussions - ExamTopics Forum-221\n",
      "Amazon discussions - ExamTopics Forum-222\n",
      "Amazon discussions - ExamTopics Forum-223\n",
      "Amazon discussions - ExamTopics Forum-224\n",
      "Amazon discussions - ExamTopics Forum-225\n",
      "Amazon discussions - ExamTopics Forum-226\n",
      "Amazon discussions - ExamTopics Forum-227\n",
      "Amazon discussions - ExamTopics Forum-228\n",
      "Amazon discussions - ExamTopics Forum-229\n",
      "Amazon discussions - ExamTopics Forum-230\n",
      "Amazon discussions - ExamTopics Forum-231\n",
      "Amazon discussions - ExamTopics Forum-232\n",
      "Amazon discussions - ExamTopics Forum-233\n",
      "Amazon discussions - ExamTopics Forum-234\n",
      "Amazon discussions - ExamTopics Forum-235\n",
      "Amazon discussions - ExamTopics Forum-236\n",
      "Amazon discussions - ExamTopics Forum-237\n",
      "Amazon discussions - ExamTopics Forum-238\n",
      "Amazon discussions - ExamTopics Forum-239\n",
      "Amazon discussions - ExamTopics Forum-240\n",
      "Amazon discussions - ExamTopics Forum-241\n",
      "Amazon discussions - ExamTopics Forum-242\n",
      "Amazon discussions - ExamTopics Forum-243\n",
      "Amazon discussions - ExamTopics Forum-244\n",
      "Amazon discussions - ExamTopics Forum-245\n",
      "Amazon discussions - ExamTopics Forum-246\n",
      "Amazon discussions - ExamTopics Forum-247\n",
      "Amazon discussions - ExamTopics Forum-248\n",
      "Amazon discussions - ExamTopics Forum-249\n",
      "Amazon discussions - ExamTopics Forum-250\n",
      "Amazon discussions - ExamTopics Forum-251\n",
      "Amazon discussions - ExamTopics Forum-252\n",
      "Amazon discussions - ExamTopics Forum-253\n",
      "Amazon discussions - ExamTopics Forum-254\n",
      "Amazon discussions - ExamTopics Forum-255\n",
      "Amazon discussions - ExamTopics Forum-256\n",
      "Amazon discussions - ExamTopics Forum-257\n",
      "Amazon discussions - ExamTopics Forum-258\n",
      "Amazon discussions - ExamTopics Forum-259\n",
      "Amazon discussions - ExamTopics Forum-260\n",
      "Amazon discussions - ExamTopics Forum-261\n",
      "Amazon discussions - ExamTopics Forum-262\n",
      "Amazon discussions - ExamTopics Forum-263\n",
      "Amazon discussions - ExamTopics Forum-264\n",
      "Amazon discussions - ExamTopics Forum-265\n",
      "Amazon discussions - ExamTopics Forum-266\n",
      "Amazon discussions - ExamTopics Forum-267\n",
      "Amazon discussions - ExamTopics Forum-268\n",
      "Amazon discussions - ExamTopics Forum-269\n",
      "Amazon discussions - ExamTopics Forum-270\n",
      "Amazon discussions - ExamTopics Forum-271\n",
      "Amazon discussions - ExamTopics Forum-272\n",
      "Amazon discussions - ExamTopics Forum-273\n",
      "Amazon discussions - ExamTopics Forum-274\n",
      "Amazon discussions - ExamTopics Forum-275\n",
      "Amazon discussions - ExamTopics Forum-276\n",
      "Amazon discussions - ExamTopics Forum-277\n",
      "Amazon discussions - ExamTopics Forum-278\n",
      "Amazon discussions - ExamTopics Forum-279\n",
      "Amazon discussions - ExamTopics Forum-280\n",
      "Amazon discussions - ExamTopics Forum-281\n",
      "Amazon discussions - ExamTopics Forum-282\n",
      "Amazon discussions - ExamTopics Forum-283\n",
      "Amazon discussions - ExamTopics Forum-284\n",
      "Amazon discussions - ExamTopics Forum-285\n",
      "Amazon discussions - ExamTopics Forum-286\n",
      "Amazon discussions - ExamTopics Forum-287\n",
      "Amazon discussions - ExamTopics Forum-288\n",
      "Amazon discussions - ExamTopics Forum-289\n",
      "Amazon discussions - ExamTopics Forum-290\n",
      "Amazon discussions - ExamTopics Forum-291\n",
      "Amazon discussions - ExamTopics Forum-292\n",
      "Amazon discussions - ExamTopics Forum-293\n",
      "Amazon discussions - ExamTopics Forum-294\n",
      "Amazon discussions - ExamTopics Forum-295\n",
      "Amazon discussions - ExamTopics Forum-296\n",
      "Amazon discussions - ExamTopics Forum-297\n",
      "Amazon discussions - ExamTopics Forum-298\n",
      "Amazon discussions - ExamTopics Forum-299\n",
      "Amazon discussions - ExamTopics Forum-300\n",
      "Amazon discussions - ExamTopics Forum-301\n",
      "Amazon discussions - ExamTopics Forum-302\n",
      "Amazon discussions - ExamTopics Forum-303\n",
      "Amazon discussions - ExamTopics Forum-304\n",
      "Amazon discussions - ExamTopics Forum-305\n",
      "Amazon discussions - ExamTopics Forum-306\n",
      "Amazon discussions - ExamTopics Forum-307\n",
      "Amazon discussions - ExamTopics Forum-308\n",
      "Amazon discussions - ExamTopics Forum-309\n",
      "Amazon discussions - ExamTopics Forum-310\n",
      "Amazon discussions - ExamTopics Forum-311\n",
      "Amazon discussions - ExamTopics Forum-312\n",
      "Amazon discussions - ExamTopics Forum-313\n",
      "Amazon discussions - ExamTopics Forum-314\n",
      "Amazon discussions - ExamTopics Forum-315\n",
      "Amazon discussions - ExamTopics Forum-316\n",
      "Amazon discussions - ExamTopics Forum-317\n",
      "Amazon discussions - ExamTopics Forum-318\n",
      "Amazon discussions - ExamTopics Forum-319\n",
      "Amazon discussions - ExamTopics Forum-320\n",
      "Amazon discussions - ExamTopics Forum-321\n",
      "Amazon discussions - ExamTopics Forum-322\n",
      "Amazon discussions - ExamTopics Forum-323\n",
      "Amazon discussions - ExamTopics Forum-324\n",
      "Amazon discussions - ExamTopics Forum-325\n",
      "Amazon discussions - ExamTopics Forum-326\n",
      "Amazon discussions - ExamTopics Forum-327\n",
      "Amazon discussions - ExamTopics Forum-328\n",
      "Amazon discussions - ExamTopics Forum-329\n",
      "Amazon discussions - ExamTopics Forum-330\n",
      "Amazon discussions - ExamTopics Forum-331\n",
      "Amazon discussions - ExamTopics Forum-332\n",
      "Amazon discussions - ExamTopics Forum-333\n",
      "Amazon discussions - ExamTopics Forum-334\n",
      "Amazon discussions - ExamTopics Forum-335\n",
      "Amazon discussions - ExamTopics Forum-336\n",
      "Amazon discussions - ExamTopics Forum-337\n",
      "Amazon discussions - ExamTopics Forum-338\n",
      "Amazon discussions - ExamTopics Forum-339\n",
      "Amazon discussions - ExamTopics Forum-340\n",
      "Amazon discussions - ExamTopics Forum-341\n",
      "Amazon discussions - ExamTopics Forum-342\n",
      "Amazon discussions - ExamTopics Forum-343\n",
      "Amazon discussions - ExamTopics Forum-344\n",
      "Amazon discussions - ExamTopics Forum-345\n",
      "Amazon discussions - ExamTopics Forum-346\n",
      "Amazon discussions - ExamTopics Forum-347\n",
      "Amazon discussions - ExamTopics Forum-348\n",
      "Amazon discussions - ExamTopics Forum-349\n",
      "Amazon discussions - ExamTopics Forum-350\n",
      "Amazon discussions - ExamTopics Forum-351\n",
      "Amazon discussions - ExamTopics Forum-352\n",
      "Amazon discussions - ExamTopics Forum-353\n",
      "Amazon discussions - ExamTopics Forum-354\n",
      "Amazon discussions - ExamTopics Forum-355\n",
      "Amazon discussions - ExamTopics Forum-356\n",
      "Amazon discussions - ExamTopics Forum-357\n",
      "Amazon discussions - ExamTopics Forum-358\n",
      "Amazon discussions - ExamTopics Forum-359\n",
      "Amazon discussions - ExamTopics Forum-360\n",
      "Amazon discussions - ExamTopics Forum-361\n",
      "Amazon discussions - ExamTopics Forum-362\n",
      "Amazon discussions - ExamTopics Forum-363\n",
      "Amazon discussions - ExamTopics Forum-364\n",
      "Amazon discussions - ExamTopics Forum-365\n",
      "Amazon discussions - ExamTopics Forum-366\n",
      "Amazon discussions - ExamTopics Forum-367\n",
      "Amazon discussions - ExamTopics Forum-368\n",
      "Amazon discussions - ExamTopics Forum-369\n",
      "Amazon discussions - ExamTopics Forum-370\n",
      "Amazon discussions - ExamTopics Forum-371\n",
      "Amazon discussions - ExamTopics Forum-372\n",
      "Amazon discussions - ExamTopics Forum-373\n",
      "Amazon discussions - ExamTopics Forum-374\n",
      "Amazon discussions - ExamTopics Forum-375\n"
     ]
    }
   ],
   "source": [
    "with open(\"AmazonDiscussList.txt\", \"w\", encoding='utf-8') as file:    \n",
    "    for i in range(375):\n",
    "        pageno = i + 1\n",
    "\n",
    "        open_amazondiscuss(driver, pageno)\n",
    "\n",
    "        driver.switch_to.window(driver.window_handles[0])\n",
    "        print(driver.title + \"-\" + str(pageno))\n",
    "        bs = BeautifulSoup(driver.page_source, 'html.parser')\n",
    "        div_card = bs.find_all(\"div\", {\"class\": \"container-fluid discussion-list\"})\n",
    "        a = bs.find_all(\"a\", {\"class\": \"discussion-link\"})\n",
    "        for i in range(len(a)):\n",
    "            file.write(str(a[i].text.strip())+\"\\t\")\n",
    "            file.write(str(a[i][\"href\"])+\"\\n\")\n",
    "            \n",
    "file.close()"
   ]
  },
  {
   "cell_type": "code",
   "execution_count": null,
   "id": "34b98d15",
   "metadata": {
    "ExecuteTime": {
     "end_time": "2022-09-24T17:07:43.811913Z",
     "start_time": "2022-09-24T17:07:40.910149Z"
    }
   },
   "outputs": [],
   "source": [
    "               \n",
    "    driver.quit()"
   ]
  },
  {
   "cell_type": "code",
   "execution_count": null,
   "id": "7ecf2a7e",
   "metadata": {
    "ExecuteTime": {
     "end_time": "2022-09-24T06:44:24.163195Z",
     "start_time": "2022-09-24T06:44:23.929818Z"
    }
   },
   "outputs": [
    {
     "name": "stdout",
     "output_type": "stream",
     "text": [
      "AWS Certified Database - Specialty Exam – Free Exam Q&As, Page 41 | ExamTopics\n"
     ]
    }
   ],
   "source": [
    "driver.switch_to.window(driver.window_handles[0])\n",
    "print(driver.title)\n",
    "\n",
    "bs = BeautifulSoup(driver.page_source, 'html.parser')\n",
    "div_questions = bs.find_all(\"div\", {\"class\": \"questions-container\"})\n",
    "\n",
    "with open(\"DBS_Page.html\", \"a\", encoding='utf-8') as file:\n",
    "    #file.append(div_questions)\n",
    "    file.write(str(div_questions))"
   ]
  },
  {
   "cell_type": "code",
   "execution_count": null,
   "id": "71ea9c53",
   "metadata": {
    "ExecuteTime": {
     "end_time": "2022-09-24T05:53:38.802735Z",
     "start_time": "2022-09-24T05:53:38.787775Z"
    }
   },
   "outputs": [],
   "source": [
    "\n"
   ]
  },
  {
   "cell_type": "code",
   "execution_count": null,
   "id": "9ac54b62",
   "metadata": {
    "ExecuteTime": {
     "end_time": "2022-09-24T05:28:52.672790Z",
     "start_time": "2022-09-24T05:28:52.636669Z"
    }
   },
   "outputs": [],
   "source": [
    "    driver.execute_script(\"return document.getElementsByClassName('btn btn-success')[0].setAttribute('href','exam/aws/DBS/page/DBS-P\" + str(pageno - 1) + \".html');\")\n",
    "    driver.execute_script(\"return document.getElementsByClassName('btn btn-success pull-right')[0].setAttribute('href','exam/aws/DBS/page/DBS-P\" + str(pageno + 1) + \".html');\")"
   ]
  },
  {
   "cell_type": "code",
   "execution_count": null,
   "id": "50e49d4c",
   "metadata": {
    "ExecuteTime": {
     "end_time": "2022-09-24T05:29:14.016060Z",
     "start_time": "2022-09-24T05:29:13.974051Z"
    }
   },
   "outputs": [],
   "source": [
    "    for i in range(4):\n",
    "        try:\n",
    "            driver.execute_script(\"return document.getElementsByClassName('btn btn-secondary question-discussion-button d-print-none')[\" + str(i) + \"].setAttribute('href','exam/aws/DBS/DBS-Q\" + ('%03d' % ((pageno-1)*4 + i + 1)) + \".html');\")\n",
    "        except:\n",
    "            continue"
   ]
  },
  {
   "cell_type": "code",
   "execution_count": null,
   "id": "7aee0546",
   "metadata": {
    "ExecuteTime": {
     "end_time": "2022-09-24T05:29:53.472922Z",
     "start_time": "2022-09-24T05:29:53.421060Z"
    }
   },
   "outputs": [
    {
     "ename": "JavascriptException",
     "evalue": "Message: javascript error: Cannot read properties of null (reading 'remove')\n  (Session info: chrome=105.0.5195.127)\n",
     "output_type": "error",
     "traceback": [
      "\u001b[1;31m---------------------------------------------------------------------------\u001b[0m",
      "\u001b[1;31mJavascriptException\u001b[0m                       Traceback (most recent call last)",
      "\u001b[1;32m~\\AppData\\Local\\Temp/ipykernel_20368/1787264360.py\u001b[0m in \u001b[0;36m<module>\u001b[1;34m\u001b[0m\n\u001b[1;32m----> 1\u001b[1;33m driver.execute_script(\"\"\"\n\u001b[0m\u001b[0;32m      2\u001b[0m     function getElementByXpath(path) {\n\u001b[0;32m      3\u001b[0m         \u001b[1;32mreturn\u001b[0m \u001b[0mdocument\u001b[0m\u001b[1;33m.\u001b[0m\u001b[0mevaluate\u001b[0m\u001b[1;33m(\u001b[0m\u001b[0mpath\u001b[0m\u001b[1;33m,\u001b[0m \u001b[0mdocument\u001b[0m\u001b[1;33m,\u001b[0m \u001b[0mnull\u001b[0m\u001b[1;33m,\u001b[0m \u001b[0mXPathResult\u001b[0m\u001b[1;33m.\u001b[0m\u001b[0mFIRST_ORDERED_NODE_TYPE\u001b[0m\u001b[1;33m,\u001b[0m \u001b[0mnull\u001b[0m\u001b[1;33m)\u001b[0m\u001b[1;33m.\u001b[0m\u001b[0msingleNodeValue\u001b[0m\u001b[1;33m;\u001b[0m\u001b[1;33m\u001b[0m\u001b[1;33m\u001b[0m\u001b[0m\n\u001b[0;32m      4\u001b[0m     }\n\u001b[0;32m      5\u001b[0m     function removeElement(element) {\n",
      "\u001b[1;32mC:\\Anaconda3\\lib\\site-packages\\selenium\\webdriver\\remote\\webdriver.py\u001b[0m in \u001b[0;36mexecute_script\u001b[1;34m(self, script, *args)\u001b[0m\n\u001b[0;32m    632\u001b[0m             \u001b[0mcommand\u001b[0m \u001b[1;33m=\u001b[0m \u001b[0mCommand\u001b[0m\u001b[1;33m.\u001b[0m\u001b[0mEXECUTE_SCRIPT\u001b[0m\u001b[1;33m\u001b[0m\u001b[1;33m\u001b[0m\u001b[0m\n\u001b[0;32m    633\u001b[0m \u001b[1;33m\u001b[0m\u001b[0m\n\u001b[1;32m--> 634\u001b[1;33m         return self.execute(command, {\n\u001b[0m\u001b[0;32m    635\u001b[0m             \u001b[1;34m'script'\u001b[0m\u001b[1;33m:\u001b[0m \u001b[0mscript\u001b[0m\u001b[1;33m,\u001b[0m\u001b[1;33m\u001b[0m\u001b[1;33m\u001b[0m\u001b[0m\n\u001b[0;32m    636\u001b[0m             'args': converted_args})['value']\n",
      "\u001b[1;32mC:\\Anaconda3\\lib\\site-packages\\selenium\\webdriver\\remote\\webdriver.py\u001b[0m in \u001b[0;36mexecute\u001b[1;34m(self, driver_command, params)\u001b[0m\n\u001b[0;32m    319\u001b[0m         \u001b[0mresponse\u001b[0m \u001b[1;33m=\u001b[0m \u001b[0mself\u001b[0m\u001b[1;33m.\u001b[0m\u001b[0mcommand_executor\u001b[0m\u001b[1;33m.\u001b[0m\u001b[0mexecute\u001b[0m\u001b[1;33m(\u001b[0m\u001b[0mdriver_command\u001b[0m\u001b[1;33m,\u001b[0m \u001b[0mparams\u001b[0m\u001b[1;33m)\u001b[0m\u001b[1;33m\u001b[0m\u001b[1;33m\u001b[0m\u001b[0m\n\u001b[0;32m    320\u001b[0m         \u001b[1;32mif\u001b[0m \u001b[0mresponse\u001b[0m\u001b[1;33m:\u001b[0m\u001b[1;33m\u001b[0m\u001b[1;33m\u001b[0m\u001b[0m\n\u001b[1;32m--> 321\u001b[1;33m             \u001b[0mself\u001b[0m\u001b[1;33m.\u001b[0m\u001b[0merror_handler\u001b[0m\u001b[1;33m.\u001b[0m\u001b[0mcheck_response\u001b[0m\u001b[1;33m(\u001b[0m\u001b[0mresponse\u001b[0m\u001b[1;33m)\u001b[0m\u001b[1;33m\u001b[0m\u001b[1;33m\u001b[0m\u001b[0m\n\u001b[0m\u001b[0;32m    322\u001b[0m             response['value'] = self._unwrap_value(\n\u001b[0;32m    323\u001b[0m                 response.get('value', None))\n",
      "\u001b[1;32mC:\\Anaconda3\\lib\\site-packages\\selenium\\webdriver\\remote\\errorhandler.py\u001b[0m in \u001b[0;36mcheck_response\u001b[1;34m(self, response)\u001b[0m\n\u001b[0;32m    240\u001b[0m                 \u001b[0malert_text\u001b[0m \u001b[1;33m=\u001b[0m \u001b[0mvalue\u001b[0m\u001b[1;33m[\u001b[0m\u001b[1;34m'alert'\u001b[0m\u001b[1;33m]\u001b[0m\u001b[1;33m.\u001b[0m\u001b[0mget\u001b[0m\u001b[1;33m(\u001b[0m\u001b[1;34m'text'\u001b[0m\u001b[1;33m)\u001b[0m\u001b[1;33m\u001b[0m\u001b[1;33m\u001b[0m\u001b[0m\n\u001b[0;32m    241\u001b[0m             \u001b[1;32mraise\u001b[0m \u001b[0mexception_class\u001b[0m\u001b[1;33m(\u001b[0m\u001b[0mmessage\u001b[0m\u001b[1;33m,\u001b[0m \u001b[0mscreen\u001b[0m\u001b[1;33m,\u001b[0m \u001b[0mstacktrace\u001b[0m\u001b[1;33m,\u001b[0m \u001b[0malert_text\u001b[0m\u001b[1;33m)\u001b[0m\u001b[1;33m\u001b[0m\u001b[1;33m\u001b[0m\u001b[0m\n\u001b[1;32m--> 242\u001b[1;33m         \u001b[1;32mraise\u001b[0m \u001b[0mexception_class\u001b[0m\u001b[1;33m(\u001b[0m\u001b[0mmessage\u001b[0m\u001b[1;33m,\u001b[0m \u001b[0mscreen\u001b[0m\u001b[1;33m,\u001b[0m \u001b[0mstacktrace\u001b[0m\u001b[1;33m)\u001b[0m\u001b[1;33m\u001b[0m\u001b[1;33m\u001b[0m\u001b[0m\n\u001b[0m\u001b[0;32m    243\u001b[0m \u001b[1;33m\u001b[0m\u001b[0m\n\u001b[0;32m    244\u001b[0m     \u001b[1;32mdef\u001b[0m \u001b[0m_value_or_default\u001b[0m\u001b[1;33m(\u001b[0m\u001b[0mself\u001b[0m\u001b[1;33m,\u001b[0m \u001b[0mobj\u001b[0m\u001b[1;33m,\u001b[0m \u001b[0mkey\u001b[0m\u001b[1;33m,\u001b[0m \u001b[0mdefault\u001b[0m\u001b[1;33m)\u001b[0m\u001b[1;33m:\u001b[0m\u001b[1;33m\u001b[0m\u001b[1;33m\u001b[0m\u001b[0m\n",
      "\u001b[1;31mJavascriptException\u001b[0m: Message: javascript error: Cannot read properties of null (reading 'remove')\n  (Session info: chrome=105.0.5195.127)\n"
     ]
    }
   ],
   "source": [
    "    driver.execute_script(\"\"\"\n",
    "        function getElementByXpath(path) {\n",
    "            return document.evaluate(path, document, null, XPathResult.FIRST_ORDERED_NODE_TYPE, null).singleNodeValue;\n",
    "        }\n",
    "        function removeElement(element) {\n",
    "            if (element !== undefined) {\n",
    "                element.remove();\n",
    "            }\n",
    "        }\n",
    "        function removeElemAttr(element, attr) {\n",
    "            if (element !== undefined && element !== null) {\n",
    "                element.removeAttribute(attr);\n",
    "            }\n",
    "        }\n",
    "        removeElement(document.getElementById('bN015htcoyT__google-cache-hdr'));\n",
    "        removeElement(getElementByXpath(\"/html/head/style\"));\n",
    "        removeElement(document.getElementsByClassName('full-width-header')[0]);\n",
    "        removeElement(document.getElementsByClassName('exam-view-header')[0]);\n",
    "        removeElement(document.getElementsByClassName('row')[0]);\n",
    "        removeElement(document.getElementById('rs-footer'));\n",
    "        getElementByXpath(\"/html/head/base\").setAttribute('href','https://changwhaj.github.io/assets/');\n",
    "        getElementByXpath(\"/html\").removeAttribute(\"class\");\n",
    "        // document.getElementsByClassName('btn btn-success')[0].setAttribute('href','/exam/AWS/DBS/DBS-P1.html');\n",
    "        // document.getElementsByClassName('btn btn-success pull-right')[0].setAttribute('href','/exam/AWS/DBS/DBS-P3.html');\n",
    "\n",
    "        // removeElement(document.getElementsByClassName('page-navigation-bar')[0]);\n",
    "        removeElement(document.getElementById('engagement-modal'));\n",
    "        removeElement(document.getElementsByClassName('modal-backdrop show')[1]);\n",
    "        removeElement(document.getElementsByClassName('modal-backdrop show')[0]);\n",
    "        getElementByXpath(\"/html/body/base\").removeAttribute(\"href\");\n",
    "        return;\n",
    "    \"\"\")"
   ]
  },
  {
   "cell_type": "code",
   "execution_count": null,
   "id": "28ad65b2",
   "metadata": {
    "ExecuteTime": {
     "end_time": "2022-09-24T05:27:14.598892Z",
     "start_time": "2022-09-24T05:27:14.471235Z"
    }
   },
   "outputs": [
    {
     "ename": "JavascriptException",
     "evalue": "Message: javascript error: Cannot read properties of null (reading 'remove')\n  (Session info: chrome=105.0.5195.127)\n",
     "output_type": "error",
     "traceback": [
      "\u001b[1;31m---------------------------------------------------------------------------\u001b[0m",
      "\u001b[1;31mJavascriptException\u001b[0m                       Traceback (most recent call last)",
      "\u001b[1;32m~\\AppData\\Local\\Temp/ipykernel_20368/1539844063.py\u001b[0m in \u001b[0;36m<module>\u001b[1;34m\u001b[0m\n\u001b[1;32m----> 1\u001b[1;33m \u001b[0mremove_element\u001b[0m\u001b[1;33m(\u001b[0m\u001b[0mdriver\u001b[0m\u001b[1;33m,\u001b[0m \u001b[0mpageno\u001b[0m\u001b[1;33m)\u001b[0m\u001b[1;33m\u001b[0m\u001b[1;33m\u001b[0m\u001b[0m\n\u001b[0m",
      "\u001b[1;32m~\\AppData\\Local\\Temp/ipykernel_20368/2585695437.py\u001b[0m in \u001b[0;36mremove_element\u001b[1;34m(driver, pageno)\u001b[0m\n\u001b[0;32m     16\u001b[0m             \u001b[1;32mcontinue\u001b[0m\u001b[1;33m\u001b[0m\u001b[1;33m\u001b[0m\u001b[0m\n\u001b[0;32m     17\u001b[0m \u001b[1;33m\u001b[0m\u001b[0m\n\u001b[1;32m---> 18\u001b[1;33m     driver.execute_script(\"\"\"\n\u001b[0m\u001b[0;32m     19\u001b[0m         function getElementByXpath(path) {\n\u001b[0;32m     20\u001b[0m             \u001b[1;32mreturn\u001b[0m \u001b[0mdocument\u001b[0m\u001b[1;33m.\u001b[0m\u001b[0mevaluate\u001b[0m\u001b[1;33m(\u001b[0m\u001b[0mpath\u001b[0m\u001b[1;33m,\u001b[0m \u001b[0mdocument\u001b[0m\u001b[1;33m,\u001b[0m \u001b[0mnull\u001b[0m\u001b[1;33m,\u001b[0m \u001b[0mXPathResult\u001b[0m\u001b[1;33m.\u001b[0m\u001b[0mFIRST_ORDERED_NODE_TYPE\u001b[0m\u001b[1;33m,\u001b[0m \u001b[0mnull\u001b[0m\u001b[1;33m)\u001b[0m\u001b[1;33m.\u001b[0m\u001b[0msingleNodeValue\u001b[0m\u001b[1;33m;\u001b[0m\u001b[1;33m\u001b[0m\u001b[1;33m\u001b[0m\u001b[0m\n",
      "\u001b[1;32mC:\\Anaconda3\\lib\\site-packages\\selenium\\webdriver\\remote\\webdriver.py\u001b[0m in \u001b[0;36mexecute_script\u001b[1;34m(self, script, *args)\u001b[0m\n\u001b[0;32m    632\u001b[0m             \u001b[0mcommand\u001b[0m \u001b[1;33m=\u001b[0m \u001b[0mCommand\u001b[0m\u001b[1;33m.\u001b[0m\u001b[0mEXECUTE_SCRIPT\u001b[0m\u001b[1;33m\u001b[0m\u001b[1;33m\u001b[0m\u001b[0m\n\u001b[0;32m    633\u001b[0m \u001b[1;33m\u001b[0m\u001b[0m\n\u001b[1;32m--> 634\u001b[1;33m         return self.execute(command, {\n\u001b[0m\u001b[0;32m    635\u001b[0m             \u001b[1;34m'script'\u001b[0m\u001b[1;33m:\u001b[0m \u001b[0mscript\u001b[0m\u001b[1;33m,\u001b[0m\u001b[1;33m\u001b[0m\u001b[1;33m\u001b[0m\u001b[0m\n\u001b[0;32m    636\u001b[0m             'args': converted_args})['value']\n",
      "\u001b[1;32mC:\\Anaconda3\\lib\\site-packages\\selenium\\webdriver\\remote\\webdriver.py\u001b[0m in \u001b[0;36mexecute\u001b[1;34m(self, driver_command, params)\u001b[0m\n\u001b[0;32m    319\u001b[0m         \u001b[0mresponse\u001b[0m \u001b[1;33m=\u001b[0m \u001b[0mself\u001b[0m\u001b[1;33m.\u001b[0m\u001b[0mcommand_executor\u001b[0m\u001b[1;33m.\u001b[0m\u001b[0mexecute\u001b[0m\u001b[1;33m(\u001b[0m\u001b[0mdriver_command\u001b[0m\u001b[1;33m,\u001b[0m \u001b[0mparams\u001b[0m\u001b[1;33m)\u001b[0m\u001b[1;33m\u001b[0m\u001b[1;33m\u001b[0m\u001b[0m\n\u001b[0;32m    320\u001b[0m         \u001b[1;32mif\u001b[0m \u001b[0mresponse\u001b[0m\u001b[1;33m:\u001b[0m\u001b[1;33m\u001b[0m\u001b[1;33m\u001b[0m\u001b[0m\n\u001b[1;32m--> 321\u001b[1;33m             \u001b[0mself\u001b[0m\u001b[1;33m.\u001b[0m\u001b[0merror_handler\u001b[0m\u001b[1;33m.\u001b[0m\u001b[0mcheck_response\u001b[0m\u001b[1;33m(\u001b[0m\u001b[0mresponse\u001b[0m\u001b[1;33m)\u001b[0m\u001b[1;33m\u001b[0m\u001b[1;33m\u001b[0m\u001b[0m\n\u001b[0m\u001b[0;32m    322\u001b[0m             response['value'] = self._unwrap_value(\n\u001b[0;32m    323\u001b[0m                 response.get('value', None))\n",
      "\u001b[1;32mC:\\Anaconda3\\lib\\site-packages\\selenium\\webdriver\\remote\\errorhandler.py\u001b[0m in \u001b[0;36mcheck_response\u001b[1;34m(self, response)\u001b[0m\n\u001b[0;32m    240\u001b[0m                 \u001b[0malert_text\u001b[0m \u001b[1;33m=\u001b[0m \u001b[0mvalue\u001b[0m\u001b[1;33m[\u001b[0m\u001b[1;34m'alert'\u001b[0m\u001b[1;33m]\u001b[0m\u001b[1;33m.\u001b[0m\u001b[0mget\u001b[0m\u001b[1;33m(\u001b[0m\u001b[1;34m'text'\u001b[0m\u001b[1;33m)\u001b[0m\u001b[1;33m\u001b[0m\u001b[1;33m\u001b[0m\u001b[0m\n\u001b[0;32m    241\u001b[0m             \u001b[1;32mraise\u001b[0m \u001b[0mexception_class\u001b[0m\u001b[1;33m(\u001b[0m\u001b[0mmessage\u001b[0m\u001b[1;33m,\u001b[0m \u001b[0mscreen\u001b[0m\u001b[1;33m,\u001b[0m \u001b[0mstacktrace\u001b[0m\u001b[1;33m,\u001b[0m \u001b[0malert_text\u001b[0m\u001b[1;33m)\u001b[0m\u001b[1;33m\u001b[0m\u001b[1;33m\u001b[0m\u001b[0m\n\u001b[1;32m--> 242\u001b[1;33m         \u001b[1;32mraise\u001b[0m \u001b[0mexception_class\u001b[0m\u001b[1;33m(\u001b[0m\u001b[0mmessage\u001b[0m\u001b[1;33m,\u001b[0m \u001b[0mscreen\u001b[0m\u001b[1;33m,\u001b[0m \u001b[0mstacktrace\u001b[0m\u001b[1;33m)\u001b[0m\u001b[1;33m\u001b[0m\u001b[1;33m\u001b[0m\u001b[0m\n\u001b[0m\u001b[0;32m    243\u001b[0m \u001b[1;33m\u001b[0m\u001b[0m\n\u001b[0;32m    244\u001b[0m     \u001b[1;32mdef\u001b[0m \u001b[0m_value_or_default\u001b[0m\u001b[1;33m(\u001b[0m\u001b[0mself\u001b[0m\u001b[1;33m,\u001b[0m \u001b[0mobj\u001b[0m\u001b[1;33m,\u001b[0m \u001b[0mkey\u001b[0m\u001b[1;33m,\u001b[0m \u001b[0mdefault\u001b[0m\u001b[1;33m)\u001b[0m\u001b[1;33m:\u001b[0m\u001b[1;33m\u001b[0m\u001b[1;33m\u001b[0m\u001b[0m\n",
      "\u001b[1;31mJavascriptException\u001b[0m: Message: javascript error: Cannot read properties of null (reading 'remove')\n  (Session info: chrome=105.0.5195.127)\n"
     ]
    }
   ],
   "source": [
    "remove_element(driver, pageno)"
   ]
  },
  {
   "cell_type": "code",
   "execution_count": null,
   "id": "f626dd17",
   "metadata": {
    "ExecuteTime": {
     "end_time": "2022-09-24T08:57:20.179039Z",
     "start_time": "2022-09-24T08:57:17.896966Z"
    }
   },
   "outputs": [],
   "source": [
    "driver.quit()"
   ]
  },
  {
   "cell_type": "code",
   "execution_count": null,
   "id": "7a340f60",
   "metadata": {
    "ExecuteTime": {
     "end_time": "2022-09-24T05:22:22.148301Z",
     "start_time": "2022-09-24T05:22:15.965520Z"
    }
   },
   "outputs": [
    {
     "name": "stdout",
     "output_type": "stream",
     "text": [
      "Error 404 (Not Found)!!1\n"
     ]
    },
    {
     "ename": "SyntaxError",
     "evalue": "'continue' not properly in loop (Temp/ipykernel_20368/3035640858.py, line 7)",
     "output_type": "error",
     "traceback": [
      "\u001b[1;36m  File \u001b[1;32m\"C:\\Users\\Changwha\\AppData\\Local\\Temp/ipykernel_20368/3035640858.py\"\u001b[1;36m, line \u001b[1;32m7\u001b[0m\n\u001b[1;33m    continue\u001b[0m\n\u001b[1;37m    ^\u001b[0m\n\u001b[1;31mSyntaxError\u001b[0m\u001b[1;31m:\u001b[0m 'continue' not properly in loop\n"
     ]
    }
   ],
   "source": [
    "            open_exam(driver, pageno)\n",
    "            driver.switch_to.window(driver.window_handles[0])\n",
    "            print(driver.title)\n",
    "            if (driver.title == 'Error 404 (Not Found)!!1'):\n",
    "                with open(fname, \"w\", encoding='utf-8') as file:\n",
    "                    file.write('Error 404 (Not Found)')\n",
    "                continue\n",
    "            remove_element(driver, pageno)\n",
    "\n"
   ]
  },
  {
   "cell_type": "code",
   "execution_count": null,
   "id": "6a1cc0b6",
   "metadata": {},
   "outputs": [],
   "source": []
  },
  {
   "cell_type": "code",
   "execution_count": null,
   "id": "f6edff7c",
   "metadata": {
    "ExecuteTime": {
     "end_time": "2022-09-24T17:14:33.375658Z",
     "start_time": "2022-09-24T17:14:33.263956Z"
    }
   },
   "outputs": [
    {
     "ename": "ModuleNotFoundError",
     "evalue": "No module named 'webdriver_manager'",
     "output_type": "error",
     "traceback": [
      "\u001b[1;31m---------------------------------------------------------------------------\u001b[0m",
      "\u001b[1;31mModuleNotFoundError\u001b[0m                       Traceback (most recent call last)",
      "\u001b[1;32m~\\AppData\\Local\\Temp/ipykernel_20368/3870663320.py\u001b[0m in \u001b[0;36m<module>\u001b[1;34m\u001b[0m\n\u001b[0;32m      3\u001b[0m \u001b[1;32mfrom\u001b[0m \u001b[0mselenium\u001b[0m \u001b[1;32mimport\u001b[0m \u001b[0mwebdriver\u001b[0m\u001b[1;33m\u001b[0m\u001b[1;33m\u001b[0m\u001b[0m\n\u001b[0;32m      4\u001b[0m \u001b[1;32mfrom\u001b[0m \u001b[0mselenium\u001b[0m\u001b[1;33m.\u001b[0m\u001b[0mwebdriver\u001b[0m\u001b[1;33m.\u001b[0m\u001b[0mchrome\u001b[0m\u001b[1;33m.\u001b[0m\u001b[0mservice\u001b[0m \u001b[1;32mimport\u001b[0m \u001b[0mService\u001b[0m\u001b[1;33m\u001b[0m\u001b[1;33m\u001b[0m\u001b[0m\n\u001b[1;32m----> 5\u001b[1;33m \u001b[1;32mfrom\u001b[0m \u001b[0mwebdriver_manager\u001b[0m\u001b[1;33m.\u001b[0m\u001b[0mchrome\u001b[0m \u001b[1;32mimport\u001b[0m \u001b[0mChromeDriverManager\u001b[0m\u001b[1;33m\u001b[0m\u001b[1;33m\u001b[0m\u001b[0m\n\u001b[0m\u001b[0;32m      6\u001b[0m \u001b[1;33m\u001b[0m\u001b[0m\n\u001b[0;32m      7\u001b[0m \u001b[1;32mfrom\u001b[0m \u001b[0mbs4\u001b[0m \u001b[1;32mimport\u001b[0m \u001b[0mBeautifulSoup\u001b[0m\u001b[1;33m\u001b[0m\u001b[1;33m\u001b[0m\u001b[0m\n",
      "\u001b[1;31mModuleNotFoundError\u001b[0m: No module named 'webdriver_manager'"
     ]
    }
   ],
   "source": [
    "import time\n",
    "\n",
    "from selenium import webdriver\n",
    "from selenium.webdriver.chrome.service import Service\n",
    "from webdriver_manager.chrome import ChromeDriverManager\n",
    "\n",
    "from bs4 import BeautifulSoup\n",
    "\n",
    "from random import *\n",
    "from pathlib import Path\n",
    "    \n",
    "from ArrayDBS import ArrayDBS\n"
   ]
  },
  {
   "cell_type": "code",
   "execution_count": null,
   "id": "753a07d0",
   "metadata": {},
   "outputs": [],
   "source": []
  }
 ],
 "metadata": {
  "hide_input": false,
  "kernelspec": {
   "display_name": "Python 3 (ipykernel)",
   "language": "python",
   "name": "python3"
  },
  "language_info": {
   "codemirror_mode": {
    "name": "ipython",
    "version": 3
   },
   "file_extension": ".py",
   "mimetype": "text/x-python",
   "name": "python",
   "nbconvert_exporter": "python",
   "pygments_lexer": "ipython3",
   "version": "3.10.9"
  },
  "toc": {
   "base_numbering": 1,
   "nav_menu": {},
   "number_sections": true,
   "sideBar": true,
   "skip_h1_title": false,
   "title_cell": "Table of Contents",
   "title_sidebar": "Contents",
   "toc_cell": false,
   "toc_position": {},
   "toc_section_display": true,
   "toc_window_display": false
  },
  "varInspector": {
   "cols": {
    "lenName": 16,
    "lenType": 16,
    "lenVar": 40
   },
   "kernels_config": {
    "python": {
     "delete_cmd_postfix": "",
     "delete_cmd_prefix": "del ",
     "library": "var_list.py",
     "varRefreshCmd": "print(var_dic_list())"
    },
    "r": {
     "delete_cmd_postfix": ") ",
     "delete_cmd_prefix": "rm(",
     "library": "var_list.r",
     "varRefreshCmd": "cat(var_dic_list()) "
    }
   },
   "types_to_exclude": [
    "module",
    "function",
    "builtin_function_or_method",
    "instance",
    "_Feature"
   ],
   "window_display": false
  }
 },
 "nbformat": 4,
 "nbformat_minor": 5
}
